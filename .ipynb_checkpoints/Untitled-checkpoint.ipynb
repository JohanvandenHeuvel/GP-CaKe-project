{
 "cells": [
  {
   "cell_type": "markdown",
   "metadata": {},
   "source": [
    "A simple 2-node simulation demonstration the application of GP-CaKe. Of particular interest are the covariance parameters\n",
    "that define the constraints on the posterior shape of the causal kernels.\n",
    "\n",
    "References:\n",
    "    Ambrogioni, L., Hinne, M., van Gerven, M., & Maris, E. (2017). GP CaKe: Effective brain connectivity with causal kernels,\n",
    "    pp. 1–10. Retrieved from http://arxiv.org/abs/1705.05603\n",
    "\n",
    "Last updated on July 6th, 2017."
   ]
  },
  {
   "cell_type": "code",
   "execution_count": 1,
   "metadata": {},
   "outputs": [],
   "source": [
    "import numpy as np\n",
    "import networkx as nx\n",
    "\n",
    "\"\"\"\n",
    "Simulation and GP-CaKe packages.\n",
    "\"\"\"\n",
    "\n",
    "import simulator as sim\n",
    "import gpcake\n",
    "import utility"
   ]
  },
  {
   "cell_type": "code",
   "execution_count": 2,
   "metadata": {},
   "outputs": [],
   "source": [
    "\"\"\"\n",
    "Simulation parameters. Here, we construct a 2-node graph with one connection (with max. strength <connection_strength>).\n",
    "We create a 4 second time series per node, with a sampling rate of 100 Hz.\n",
    "\"\"\"\n",
    "\n",
    "p                       = 3\n",
    "adj_mat                 = np.zeros((p,p))\n",
    "\n",
    "# adj_mat[0,1]            = 1\n",
    "adj_mat[2,0]            = 1\n",
    "adj_mat[2,1]            = 1\n",
    "\n",
    "connection_strength     = 1.0\n",
    "\n",
    "time_step               = 0.01\n",
    "time_period             = 4.\n",
    "time_range              = np.arange(-time_period / 2, time_period / 2, time_step)\n",
    "n                       = int(time_period / time_step)\n",
    "\n",
    "simulation_params       = {'network'                : adj_mat,\n",
    "                           'connection_strength'    : connection_strength,\n",
    "                           'time_step'              : time_step,\n",
    "                           'time_period'            : time_period}"
   ]
  },
  {
   "cell_type": "code",
   "execution_count": 3,
   "metadata": {},
   "outputs": [
    {
     "data": {
      "image/png": "[encoded data removed]",
      "text/plain": [
       "<Figure size 432x288 with 1 Axes>"
      ]
     },
     "metadata": {},
     "output_type": "display_data"
    }
   ],
   "source": [
    "\"\"\"\n",
    "The network.\n",
    "\"\"\"\n",
    "\n",
    "G = nx.DiGraph(np.array(adj_mat)) \n",
    "nx.draw(G, with_labels=True, width=2, node_size=600, arrowsize=20)"
   ]
  },
  {
   "cell_type": "code",
   "execution_count": null,
   "metadata": {},
   "outputs": [
    {
     "name": "stdout",
     "output_type": "stream",
     "text": [
      "Generating simulation samples\n"
     ]
    }
   ],
   "source": [
    "\"\"\"\n",
    "Simulation settings. We generate <ntrials_train> trials to train the dynamic parameters on,\n",
    "and <ntrials_test> to learn the GP posterior.\n",
    "\"\"\"\n",
    "\n",
    "ntrials_train                                       = 200\n",
    "ntrials_test                                        = 200\n",
    "simulation                                          = sim.integroDifferential_simulator()\n",
    "print('Generating simulation samples')\n",
    "(training_samples, testing_samples, ground_truth)   = simulation.simulate_network_dynamics(ntrials_train, ntrials_test, simulation_params)"
   ]
  },
  {
   "cell_type": "code",
   "execution_count": null,
   "metadata": {},
   "outputs": [],
   "source": [
    "\"\"\"\n",
    "Plot a few samples to see the generated time series.\n",
    "\"\"\"\n",
    "\n",
    "utility.plot_samples(training_samples[0:3])"
   ]
  },
  {
   "cell_type": "code",
   "execution_count": null,
   "metadata": {},
   "outputs": [],
   "source": [
    "\"\"\"\n",
    "Simulation is done. Time to bake some cake!\n",
    "\"\"\"\n",
    "\n",
    "cake = gpcake.gpcake()\n",
    "cake.initialize_time_parameters(time_step, time_period)\n",
    "cake.dynamic_parameters[\"number_sources\"] = 2\n",
    "\n",
    "\"\"\"\n",
    "Select internal dynamics type. Currently implemented are \"Relaxation\" and \"Oscillation\".\n",
    "\"\"\"\n",
    "\n",
    "cake.dynamic_type = \"Relaxation\""
   ]
  },
  {
   "cell_type": "code",
   "execution_count": null,
   "metadata": {},
   "outputs": [],
   "source": [
    "\"\"\"\n",
    "Only use a number of the simulated samples\n",
    "\"\"\"\n",
    "\n",
    "temp = training_samples.copy()\n",
    "temp = [np.delete(sample, 2, 0) for sample in temp]\n",
    "observed_training_samples = temp"
   ]
  },
  {
   "cell_type": "code",
   "execution_count": null,
   "metadata": {},
   "outputs": [],
   "source": [
    "# \"\"\"\n",
    "# Add lagg to node\n",
    "# \"\"\"\n",
    "\n",
    "# temp = training_samples.copy()\n",
    "# temp = [np.delete(sample, 2, 0) for sample in temp]\n",
    "# observed_training_samples = temp"
   ]
  },
  {
   "cell_type": "code",
   "execution_count": null,
   "metadata": {},
   "outputs": [],
   "source": [
    "\"\"\"\n",
    "Optimize the univariate likelihoods for each node for the dynamic parameters using a grid search.\n",
    "\"\"\"\n",
    "\n",
    "dynamic_parameters_range = {\n",
    "    'relaxation_constant' : {\n",
    "        'step'  : 2,\n",
    "        'min'   : 20,\n",
    "        'max'   : 50\n",
    "    },\n",
    "    'amplitude' : {\n",
    "        'step'  : 0.001,\n",
    "        'min'   : 0.005,\n",
    "        'max'   : 0.015\n",
    "    }\n",
    "}\n",
    "\n",
    "print('Learning dynamic parameters')\n",
    "cake.learn_dynamic_parameters(observed_training_samples, dynamic_parameters_range)"
   ]
  },
  {
   "cell_type": "code",
   "execution_count": null,
   "metadata": {},
   "outputs": [],
   "source": [
    "\"\"\"\n",
    "Set the parameters of the causal kernel.\n",
    "\"\"\"\n",
    "\n",
    "cake.covariance_parameters = {  \"time_scale\"        : 0.15,     # Temporal smoothing\n",
    "                                \"time_shift\"        : 0.05,     # Temporal offset\n",
    "                                \"causal\"            : \"yes\",    # Hilbert transform\n",
    "                                \"spectral_smoothing\": np.pi }   # Temporal localization\n",
    "cake.noise_level = 0.05"
   ]
  },
  {
   "cell_type": "code",
   "execution_count": null,
   "metadata": {},
   "outputs": [],
   "source": [
    "\"\"\"\n",
    "Only use a number of the simulated samples\n",
    "\"\"\"\n",
    "\n",
    "temp = testing_samples.copy()\n",
    "temp = [np.delete(sample, 2, 0) for sample in temp]\n",
    "observed_testing_samples = temp"
   ]
  },
  {
   "cell_type": "code",
   "execution_count": null,
   "metadata": {},
   "outputs": [],
   "source": [
    "\"\"\"\n",
    "Compute the posteriors for each of the p*(p-1) connections.\n",
    "\"\"\"\n",
    "\n",
    "print('Computing posterior kernels')\n",
    "connectivity = cake.run_analysis(observed_testing_samples)"
   ]
  },
  {
   "cell_type": "code",
   "execution_count": null,
   "metadata": {},
   "outputs": [],
   "source": [
    "\"\"\"\n",
    "Visualize the posterior kernels\n",
    "\"\"\"\n",
    "utility.plot_connectivity(ground_truth, connectivity, time_range, t0=-0.5)"
   ]
  }
 ],
 "metadata": {
  "kernelspec": {
   "display_name": "Python 3",
   "language": "python",
   "name": "python3"
  },
  "language_info": {
   "codemirror_mode": {
    "name": "ipython",
    "version": 3
   },
   "file_extension": ".py",
   "mimetype": "text/x-python",
   "name": "python",
   "nbconvert_exporter": "python",
   "pygments_lexer": "ipython3",
   "version": "3.7.1"
  }
 },
 "nbformat": 4,
 "nbformat_minor": 2
}
